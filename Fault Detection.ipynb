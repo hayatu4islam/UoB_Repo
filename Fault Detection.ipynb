{
 "cells": [
  {
   "cell_type": "markdown",
   "metadata": {},
   "source": [
    "### Fault Detection using Z-score"
   ]
  },
  {
   "cell_type": "code",
   "execution_count": 17,
   "metadata": {},
   "outputs": [
    {
     "name": "stdout",
     "output_type": "stream",
     "text": [
      "Detected faults:\n",
      "Index: 5, Value: 50\n",
      "[(5, 50)]\n"
     ]
    }
   ],
   "source": [
    "import numpy as np\n",
    "\n",
    "def detect_faults(time_series_data, threshold=3):\n",
    "    \"\"\"\n",
    "    Detect faults in time series data using Z-score anomaly detection.\n",
    "    \n",
    "    Args:\n",
    "        time_series_data (list or numpy array): The time series data.\n",
    "        threshold (float): The threshold value to determine anomalies.\n",
    "    \n",
    "    Returns:\n",
    "        list: A list of tuples containing the index and value of detected anomalies.\n",
    "    \"\"\"\n",
    "    # Convert data to numpy array\n",
    "    data = np.array(time_series_data)\n",
    "    \n",
    "    # Calculate mean and standard deviation\n",
    "    mean = np.mean(data)\n",
    "    std = np.std(data)\n",
    "    \n",
    "    # Calculate Z-scores for each data point\n",
    "    z_scores = (data - mean) / std\n",
    "    \n",
    "    # Find anomalies based on threshold\n",
    "    anomalies = [(i, value) for i, value in enumerate(time_series_data) if abs(z_scores[i]) > threshold]\n",
    "    \n",
    "    return anomalies\n",
    "\n",
    "# Example usage\n",
    "time_series = [1, 2, 3, 4, 5, 50, 6, 7, 8, 9]\n",
    "detected_faults = detect_faults(time_series, threshold=2)\n",
    "\n",
    "if len(detected_faults) > 0:\n",
    "    print(\"Detected faults:\")\n",
    "    for index, value in detected_faults:\n",
    "        print(f\"Index: {index}, Value: {value}\")\n",
    "else:\n",
    "    print(\"No faults detected.\")\n",
    "print(detected_faults)"
   ]
  },
  {
   "cell_type": "code",
   "execution_count": 18,
   "metadata": {},
   "outputs": [
    {
     "name": "stdout",
     "output_type": "stream",
     "text": [
      "The value of mean is 9.5\n",
      "The value of std is 13.720422734012244\n",
      "[-0.61951444 -0.54663039 -0.47374634 -0.40086228 -0.32797823  2.95180409\n",
      " -0.25509418 -0.18221013 -0.10932608 -0.03644203]\n",
      "[]\n"
     ]
    }
   ],
   "source": [
    "time_series_data = [1, 2, 3, 4, 5, 50, 6, 7, 8, 9]\n",
    "threshold = 3\n",
    "# Convert data to numpy array\n",
    "data = np.array(time_series_data)\n",
    "# Calculate mean and standard deviation\n",
    "mean = np.mean(data)\n",
    "std = np.std(data)\n",
    "\n",
    "# Calculate Z-scores for each data point\n",
    "z_scores = (data - mean) / std\n",
    "# Find anomalies based on threshold\n",
    "anomalies = [(i, value) for i, value in enumerate(time_series_data) if abs(z_scores[i]) > threshold]\n",
    "print(f'The value of mean is {mean}')\n",
    "print(f'The value of std is {std}')\n",
    "print(z_scores)\n",
    "print(anomalies)\n"
   ]
  },
  {
   "cell_type": "markdown",
   "metadata": {},
   "source": [
    "### Fault detection using LSTM"
   ]
  },
  {
   "cell_type": "code",
   "execution_count": 19,
   "metadata": {},
   "outputs": [
    {
     "name": "stdout",
     "output_type": "stream",
     "text": [
      "Epoch 1/10\n",
      "1/1 [==============================] - 1s 1s/step - loss: 0.2096\n",
      "Epoch 2/10\n",
      "1/1 [==============================] - 0s 7ms/step - loss: 0.1876\n",
      "Epoch 3/10\n",
      "1/1 [==============================] - 0s 6ms/step - loss: 0.1671\n",
      "Epoch 4/10\n",
      "1/1 [==============================] - 0s 7ms/step - loss: 0.1480\n",
      "Epoch 5/10\n",
      "1/1 [==============================] - 0s 7ms/step - loss: 0.1304\n",
      "Epoch 6/10\n",
      "1/1 [==============================] - 0s 7ms/step - loss: 0.1140\n",
      "Epoch 7/10\n",
      "1/1 [==============================] - 0s 6ms/step - loss: 0.0989\n",
      "Epoch 8/10\n",
      "1/1 [==============================] - 0s 8ms/step - loss: 0.0851\n",
      "Epoch 9/10\n",
      "1/1 [==============================] - 0s 7ms/step - loss: 0.0726\n",
      "Epoch 10/10\n",
      "1/1 [==============================] - 0s 8ms/step - loss: 0.0615\n",
      "Train loss: 0.0519\n",
      "Test loss: 0.2071\n",
      "1/1 [==============================] - 0s 322ms/step\n",
      "2\n"
     ]
    }
   ],
   "source": [
    "import numpy as np\n",
    "import pandas as pd\n",
    "from sklearn.preprocessing import MinMaxScaler\n",
    "from tensorflow.keras.models import Sequential\n",
    "from tensorflow.keras.layers import LSTM, Dense\n",
    "\n",
    "# Load and preprocess the dataset\n",
    "data = pd.read_csv('shampoo.csv', index_col=0, header=0, parse_dates=True)  # Replace with your dataset\n",
    "values = data['value'].values.reshape(-1, 1)  # Assuming 'value' is the column containing data\n",
    "scaler = MinMaxScaler(feature_range=(0, 1))\n",
    "scaled_values = scaler.fit_transform(values)\n",
    "\n",
    "# Define sequence length and split into input/output sequences\n",
    "sequence_length = 10\n",
    "X = []\n",
    "y = []\n",
    "for i in range(len(scaled_values) - sequence_length):\n",
    "    X.append(scaled_values[i:i+sequence_length])\n",
    "    y.append(scaled_values[i+sequence_length])\n",
    "X = np.array(X)\n",
    "y = np.array(y)\n",
    "\n",
    "# Split the data into training and testing sets\n",
    "train_size = int(0.8 * len(X))\n",
    "X_train, X_test = X[:train_size], X[train_size:]\n",
    "y_train, y_test = y[:train_size], y[train_size:]\n",
    "\n",
    "# Build the LSTM model\n",
    "model = Sequential()\n",
    "model.add(LSTM(64, input_shape=(sequence_length, 1)))\n",
    "model.add(Dense(1))\n",
    "model.compile(loss='mean_squared_error', optimizer='adam')\n",
    "\n",
    "# Train the model\n",
    "model.fit(X_train, y_train, epochs=10, batch_size=32)\n",
    "\n",
    "# Evaluate the model\n",
    "train_loss = model.evaluate(X_train, y_train, verbose=0)\n",
    "test_loss = model.evaluate(X_test, y_test, verbose=0)\n",
    "print(f'Train loss: {train_loss:.4f}')\n",
    "print(f'Test loss: {test_loss:.4f}')\n",
    "\n",
    "# Make predictions on new data\n",
    "new_data = pd.read_csv('shampoo-test.csv', index_col=0, header=0, parse_dates=True)  # Replace with your new dataset\n",
    "new_values = new_data['value'].values.reshape(-1, 1)\n",
    "new_scaled_values = scaler.transform(new_values)\n",
    "X_new = []\n",
    "for i in range(len(new_scaled_values) - sequence_length):\n",
    "    X_new.append(new_scaled_values[i:i+sequence_length])\n",
    "X_new = np.array(X_new)\n",
    "predictions = model.predict(X_new)\n",
    "\n",
    "# Calculate prediction errors\n",
    "errors = np.abs(predictions - X_new[:, -1])\n",
    "\n",
    "# Define a threshold for fault detection\n",
    "threshold = 0.1  # Adjust based on your requirements\n",
    "\n",
    "# Classify data points as normal or faulty based on the threshold\n",
    "classifications = ['Normal' if error <= threshold else 'Faulty' for error in errors]\n",
    "print(len(predictions))"
   ]
  },
  {
   "cell_type": "code",
   "execution_count": null,
   "metadata": {},
   "outputs": [],
   "source": []
  },
  {
   "cell_type": "code",
   "execution_count": 20,
   "metadata": {},
   "outputs": [
    {
     "name": "stdout",
     "output_type": "stream",
     "text": [
      "Fault Predictions:\n",
      "[ 1  1 -1  1  1 -1  1  1  1  1]\n"
     ]
    }
   ],
   "source": [
    "import numpy as np\n",
    "from sklearn.ensemble import IsolationForest\n",
    "from sklearn.svm import OneClassSVM\n",
    "\n",
    "# Simulated time series data with faults and anomalies\n",
    "time_series_data = np.array([1.2, 1.3, 1.5, 1.2, 1.4, 100.0, 1.3, 1.2, 1.4, 1.3])\n",
    "\n",
    "# Fault detection using Isolation Forest\n",
    "isolation_forest = IsolationForest(contamination='auto')\n",
    "isolation_forest.fit(time_series_data.reshape(-1, 1))\n",
    "fault_predictions = isolation_forest.predict(time_series_data.reshape(-1, 1))\n",
    "\n",
    "# Anomaly detection using One-Class SVM\n",
    "# one_class_svm = OneClassSVM(nu='auto')\n",
    "# one_class_svm.fit(time_series_data.reshape(-1, 1))\n",
    "# anomaly_predictions = one_class_svm.predict(time_series_data.reshape(-1, 1))\n",
    "\n",
    "# Print the fault and anomaly predictions\n",
    "print(\"Fault Predictions:\")\n",
    "print(fault_predictions)\n",
    "# print(\"Anomaly Predictions:\")\n",
    "# print(anomaly_predictions)\n"
   ]
  },
  {
   "cell_type": "code",
   "execution_count": 21,
   "metadata": {},
   "outputs": [
    {
     "name": "stdout",
     "output_type": "stream",
     "text": [
      "Fault Predictions:\n",
      "[ 1  1 -1  1  1 -1  1  1  1  1]\n",
      "Anomaly Predictions:\n"
     ]
    }
   ],
   "source": [
    "import numpy as np\n",
    "from sklearn.ensemble import IsolationForest\n",
    "from sklearn.svm import OneClassSVM\n",
    "\n",
    "# Simulated time series data with faults and anomalies\n",
    "time_series_data = [1.2, 1.3, 1.5, 1.2, 1.4, 100.0, 1.3, 1.2, 1.4, 1.3]\n",
    "\n",
    "# Convert time series data to a numpy array\n",
    "time_series_data = np.array(time_series_data)\n",
    "\n",
    "# Fault detection using Isolation Forest\n",
    "isolation_forest = IsolationForest(contamination='auto')\n",
    "isolation_forest.fit(time_series_data.reshape(-1, 1))\n",
    "fault_predictions = isolation_forest.predict(time_series_data.reshape(-1, 1))\n",
    "\n",
    "# # Anomaly detection using One-Class SVM\n",
    "# one_class_svm = OneClassSVM(nu='auto')\n",
    "# one_class_svm.fit(time_series_data.reshape(-1, 1))\n",
    "# anomaly_scores = one_class_svm.score_samples(time_series_data.reshape(-1, 1))\n",
    "\n",
    "# # Convert anomaly scores to binary predictions\n",
    "# threshold = 0  # Adjust threshold as needed\n",
    "# anomaly_predictions = np.where(anomaly_scores < threshold, -1, 1)\n",
    "\n",
    "# Print the fault and anomaly predictions\n",
    "print(\"Fault Predictions:\")\n",
    "print(fault_predictions)\n",
    "print(\"Anomaly Predictions:\")\n",
    "# print(anomaly_predictions)\n"
   ]
  },
  {
   "cell_type": "code",
   "execution_count": 22,
   "metadata": {},
   "outputs": [
    {
     "name": "stdout",
     "output_type": "stream",
     "text": [
      "[2, 4, 6, 8, 10, 12, 14, 16, 18, 20]\n"
     ]
    }
   ],
   "source": [
    "data1 = [1,2,3,4,5,6,7,8,9,10]\n",
    "data2 = [2*i for i in data1]\n",
    "print(data2)"
   ]
  },
  {
   "cell_type": "code",
   "execution_count": 23,
   "metadata": {},
   "outputs": [
    {
     "name": "stdout",
     "output_type": "stream",
     "text": [
      "6.2048368229954285\n"
     ]
    }
   ],
   "source": [
    "from statsmodels.tools.eval_measures import rmse\n",
    "rmse_val = rmse(data1, data2)\n",
    "print(rmse_val)"
   ]
  },
  {
   "cell_type": "code",
   "execution_count": 24,
   "metadata": {},
   "outputs": [
    {
     "name": "stdout",
     "output_type": "stream",
     "text": [
      "6.2048368229954285\n"
     ]
    }
   ],
   "source": [
    "def root_mse(x, y):\n",
    "    if len(x) != len(y):\n",
    "        return \"Error: The two arguments must have the same length\"\n",
    "    mse = np.square(np.subtract(x, y)).mean()\n",
    "    return np.sqrt(mse)\n",
    "\n",
    "print(root_mse(data1, data2))"
   ]
  },
  {
   "cell_type": "code",
   "execution_count": 25,
   "metadata": {},
   "outputs": [
    {
     "data": {
      "text/plain": [
       "b'\\x00\\x00\\x00\\x00'"
      ]
     },
     "execution_count": 25,
     "metadata": {},
     "output_type": "execute_result"
    }
   ],
   "source": [
    "bytes(4)"
   ]
  },
  {
   "cell_type": "markdown",
   "metadata": {},
   "source": [
    "### CUSUM ALGORITHM"
   ]
  },
  {
   "cell_type": "code",
   "execution_count": 63,
   "metadata": {},
   "outputs": [
    {
     "data": {
      "text/plain": [
       "Int64Index([1, 2, 3, 4, 5, 6, 7, 8, 9, 10, 11, 12, 13, 14, 15, 16, 17, 18, 19,\n",
       "            20],\n",
       "           dtype='int64')"
      ]
     },
     "execution_count": 63,
     "metadata": {},
     "output_type": "execute_result"
    }
   ],
   "source": [
    "pd.Index(list(range(1,21)))"
   ]
  },
  {
   "cell_type": "code",
   "execution_count": 57,
   "metadata": {},
   "outputs": [
    {
     "name": "stdout",
     "output_type": "stream",
     "text": [
      "Change points detected at indices: [2, 3, 7, 8]\n"
     ]
    }
   ],
   "source": [
    "import numpy as np\n",
    "\n",
    "def cusum(data, target, threshold):\n",
    "    cumulative_sum = np.zeros_like(data)  # Initialize cumulative sum array\n",
    "    change_points = []  # List to store detected change points\n",
    "    \n",
    "    for i in range(1, len(data)):\n",
    "#         deviation = data[i] - target  # Calculate deviation from the target value\n",
    "        deviation = data[i] - data[i-1]  # Calculate deviation from the target value\n",
    "        cumulative_sum[i] = max(0, cumulative_sum[i-1] + deviation - threshold)  # Update cumulative sum\n",
    "        \n",
    "        if cumulative_sum[i] >= threshold:\n",
    "            change_points.append(i)  # Store the index of detected change point\n",
    "    \n",
    "    return change_points\n",
    "\n",
    "# Example usage\n",
    "data = [10, 9, 11, 12, 8, 9, 7, 13, 14, 9, 8, 7]\n",
    "target = 10  # Reference value\n",
    "threshold = 1  # Threshold for detecting significant deviations\n",
    "\n",
    "change_points = cusum(data, target, threshold)\n",
    "print(\"Change points detected at indices:\", change_points)\n"
   ]
  },
  {
   "cell_type": "code",
   "execution_count": 27,
   "id": "b6b52c62",
   "metadata": {},
   "outputs": [
    {
     "name": "stdout",
     "output_type": "stream",
     "text": [
      "[0 0 0 0 0]\n"
     ]
    }
   ],
   "source": [
    "dt = [10, 9, 11, 12, 8, 9, 7, 13, 14, 9, 8, 7]\n",
    "\n"
   ]
  },
  {
   "cell_type": "code",
   "execution_count": 29,
   "id": "f16014ad",
   "metadata": {},
   "outputs": [
    {
     "data": {
      "text/plain": [
       "12"
      ]
     },
     "execution_count": 29,
     "metadata": {},
     "output_type": "execute_result"
    }
   ],
   "source": [
    "len(data)"
   ]
  },
  {
   "cell_type": "markdown",
   "id": "06a66f20",
   "metadata": {},
   "source": [
    "### Investigate normalisation of different dataset with the same mean and std"
   ]
  },
  {
   "cell_type": "code",
   "execution_count": 69,
   "id": "be5b7341",
   "metadata": {},
   "outputs": [
    {
     "data": {
      "text/html": [
       "<div>\n",
       "<style scoped>\n",
       "    .dataframe tbody tr th:only-of-type {\n",
       "        vertical-align: middle;\n",
       "    }\n",
       "\n",
       "    .dataframe tbody tr th {\n",
       "        vertical-align: top;\n",
       "    }\n",
       "\n",
       "    .dataframe thead th {\n",
       "        text-align: right;\n",
       "    }\n",
       "</style>\n",
       "<table border=\"1\" class=\"dataframe\">\n",
       "  <thead>\n",
       "    <tr style=\"text-align: right;\">\n",
       "      <th></th>\n",
       "      <th>0</th>\n",
       "    </tr>\n",
       "  </thead>\n",
       "  <tbody>\n",
       "    <tr>\n",
       "      <th>0</th>\n",
       "      <td>-1.566699</td>\n",
       "    </tr>\n",
       "    <tr>\n",
       "      <th>1</th>\n",
       "      <td>-1.218544</td>\n",
       "    </tr>\n",
       "    <tr>\n",
       "      <th>2</th>\n",
       "      <td>-0.870388</td>\n",
       "    </tr>\n",
       "    <tr>\n",
       "      <th>3</th>\n",
       "      <td>-0.522233</td>\n",
       "    </tr>\n",
       "    <tr>\n",
       "      <th>4</th>\n",
       "      <td>-0.174078</td>\n",
       "    </tr>\n",
       "    <tr>\n",
       "      <th>5</th>\n",
       "      <td>0.174078</td>\n",
       "    </tr>\n",
       "    <tr>\n",
       "      <th>6</th>\n",
       "      <td>0.522233</td>\n",
       "    </tr>\n",
       "    <tr>\n",
       "      <th>7</th>\n",
       "      <td>0.870388</td>\n",
       "    </tr>\n",
       "    <tr>\n",
       "      <th>8</th>\n",
       "      <td>1.218544</td>\n",
       "    </tr>\n",
       "    <tr>\n",
       "      <th>9</th>\n",
       "      <td>1.566699</td>\n",
       "    </tr>\n",
       "  </tbody>\n",
       "</table>\n",
       "</div>"
      ],
      "text/plain": [
       "          0\n",
       "0 -1.566699\n",
       "1 -1.218544\n",
       "2 -0.870388\n",
       "3 -0.522233\n",
       "4 -0.174078\n",
       "5  0.174078\n",
       "6  0.522233\n",
       "7  0.870388\n",
       "8  1.218544\n",
       "9  1.566699"
      ]
     },
     "execution_count": 69,
     "metadata": {},
     "output_type": "execute_result"
    }
   ],
   "source": [
    "def normalise(data):\n",
    "    means = np.mean(data, axis=0)\n",
    "    stds = np.std(data, axis=0)\n",
    "    normalised = (data - means)/stds\n",
    "    return pd.DataFrame(normalised), means, stds\n",
    "\n",
    "def normalise2(data, means, stds):\n",
    "    return pd.DataFrame((data - means)/stds)\n",
    "\n",
    "data1 = [1,2,3,4,5,6,7,8,9,10]\n",
    "norm1 = normalise(data1)\n",
    "norm1[0]"
   ]
  },
  {
   "cell_type": "code",
   "execution_count": 78,
   "id": "c244513f",
   "metadata": {},
   "outputs": [
    {
     "data": {
      "text/html": [
       "<div>\n",
       "<style scoped>\n",
       "    .dataframe tbody tr th:only-of-type {\n",
       "        vertical-align: middle;\n",
       "    }\n",
       "\n",
       "    .dataframe tbody tr th {\n",
       "        vertical-align: top;\n",
       "    }\n",
       "\n",
       "    .dataframe thead th {\n",
       "        text-align: right;\n",
       "    }\n",
       "</style>\n",
       "<table border=\"1\" class=\"dataframe\">\n",
       "  <thead>\n",
       "    <tr style=\"text-align: right;\">\n",
       "      <th></th>\n",
       "      <th>0</th>\n",
       "    </tr>\n",
       "  </thead>\n",
       "  <tbody>\n",
       "    <tr>\n",
       "      <th>0</th>\n",
       "      <td>-1.566699</td>\n",
       "    </tr>\n",
       "    <tr>\n",
       "      <th>1</th>\n",
       "      <td>-1.218544</td>\n",
       "    </tr>\n",
       "    <tr>\n",
       "      <th>2</th>\n",
       "      <td>-0.870388</td>\n",
       "    </tr>\n",
       "    <tr>\n",
       "      <th>3</th>\n",
       "      <td>-0.522233</td>\n",
       "    </tr>\n",
       "    <tr>\n",
       "      <th>4</th>\n",
       "      <td>-0.174078</td>\n",
       "    </tr>\n",
       "  </tbody>\n",
       "</table>\n",
       "</div>"
      ],
      "text/plain": [
       "          0\n",
       "0 -1.566699\n",
       "1 -1.218544\n",
       "2 -0.870388\n",
       "3 -0.522233\n",
       "4 -0.174078"
      ]
     },
     "execution_count": 78,
     "metadata": {},
     "output_type": "execute_result"
    }
   ],
   "source": [
    "m = norm1[1]\n",
    "s = norm1[2]\n",
    "data2 = [1,2,3,4,5]\n",
    "normalise2(data2, m, s)"
   ]
  },
  {
   "cell_type": "code",
   "execution_count": 73,
   "id": "ca663980",
   "metadata": {},
   "outputs": [
    {
     "data": {
      "text/plain": [
       "2.8722813232690143"
      ]
     },
     "execution_count": 73,
     "metadata": {},
     "output_type": "execute_result"
    }
   ],
   "source": [
    "norm1[2]"
   ]
  },
  {
   "cell_type": "code",
   "execution_count": 2,
   "id": "b553993d",
   "metadata": {},
   "outputs": [
    {
     "name": "stdout",
     "output_type": "stream",
     "text": [
      "[5.0, 10.0, 15.0, 20.0, 25.0]\n"
     ]
    }
   ],
   "source": [
    "my_List = [10,20,30,40,50]\n",
    "result = [val/2 for val in my_List]\n",
    "print(result)"
   ]
  },
  {
   "cell_type": "code",
   "execution_count": 3,
   "id": "1baccc73",
   "metadata": {},
   "outputs": [
    {
     "data": {
      "text/plain": [
       "[10, 20, 30, 40, 50, 10, 20, 30, 40, 50]"
      ]
     },
     "execution_count": 3,
     "metadata": {},
     "output_type": "execute_result"
    }
   ],
   "source": [
    "my_List + my_List"
   ]
  },
  {
   "cell_type": "code",
   "execution_count": 5,
   "id": "7bec01f3",
   "metadata": {},
   "outputs": [
    {
     "data": {
      "text/plain": [
       "[(10, 10, 10, 10),\n",
       " (20, 20, 20, 20),\n",
       " (30, 30, 30, 30),\n",
       " (40, 40, 40, 40),\n",
       " (50, 50, 50, 50)]"
      ]
     },
     "execution_count": 5,
     "metadata": {},
     "output_type": "execute_result"
    }
   ],
   "source": [
    "ans = [2*i for i in zip(my_List, my_List)]\n",
    "ans"
   ]
  },
  {
   "cell_type": "code",
   "execution_count": null,
   "metadata": {},
   "outputs": [],
   "source": []
  }
 ],
 "metadata": {
  "kernelspec": {
   "display_name": "Python 3",
   "language": "python",
   "name": "python3"
  },
  "language_info": {
   "codemirror_mode": {
    "name": "ipython",
    "version": 3
   },
   "file_extension": ".py",
   "mimetype": "text/x-python",
   "name": "python",
   "nbconvert_exporter": "python",
   "pygments_lexer": "ipython3",
   "version": "3.7.6"
  }
 },
 "nbformat": 4,
 "nbformat_minor": 5
}
