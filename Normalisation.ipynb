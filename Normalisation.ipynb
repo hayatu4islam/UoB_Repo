{
 "cells": [
  {
   "cell_type": "code",
   "execution_count": null,
   "id": "26e29c25",
   "metadata": {},
   "outputs": [],
   "source": []
  },
  {
   "cell_type": "code",
   "execution_count": null,
   "id": "d1b22b45",
   "metadata": {},
   "outputs": [],
   "source": [
    "# load and clean-up data\n",
    "from numpy import nan\n",
    "from numpy import isnan\n",
    "from pandas import read_csv\n",
    "from pandas import to_numeric\n",
    "\n",
    "# fill missing values with a value at the same time one day ago\n",
    "def fill_missing(values):\n",
    "\tone_day = 60 * 24\n",
    "\tfor row in range(values.shape[0]):\n",
    "\t\tfor col in range(values.shape[1]):\n",
    "\t\t\tif isnan(values[row, col]):\n",
    "\t\t\t\tvalues[row, col] = values[row - one_day, col]\n",
    "\n",
    "# load all data\n",
    "dataset = read_csv('household_power_consumption.txt', sep=';', header=0, low_memory=False, infer_datetime_format=True, parse_dates={'datetime':[0,1]}, index_col=['datetime'])\n",
    "# mark all missing values\n",
    "dataset.replace('?', nan, inplace=True)\n",
    "# make dataset numeric\n",
    "dataset = dataset.astype('float32')\n",
    "# fill missing\n",
    "fill_missing(dataset.values)\n",
    "# add a column for for the remainder of sub metering\n",
    "values = dataset.values\n",
    "dataset['sub_metering_4'] = (values[:,0] * 1000 / 60) - (values[:,4] + values[:,5] + values[:,6])\n",
    "# save updated dataset\n",
    "dataset.to_csv('household_power_consumption.csv')"
   ]
  },
  {
   "cell_type": "code",
   "execution_count": 1,
   "id": "de2bc1ec",
   "metadata": {},
   "outputs": [
    {
     "name": "stdout",
     "output_type": "stream",
     "text": [
      "    Name  Age  Marks\n",
      "0    Joe   20  85.10\n",
      "1    Nat   21  77.80\n",
      "2  Harry   19  91.54\n",
      "     Name  Age  Marks\n",
      "s1    Joe   20  85.10\n",
      "s2    Nat   21  77.80\n",
      "s3  Harry   19  91.54\n"
     ]
    }
   ],
   "source": [
    "import pandas as pd\n",
    "\n",
    "student_dict = {'Name': ['Joe', 'Nat', 'Harry'], 'Age': [20, 21, 19], 'Marks': [85.10, 77.80, 91.54]}\n",
    "\n",
    "# create DataFrame from dict\n",
    "student_df = pd.DataFrame(student_dict)\n",
    "print(student_df)\n",
    "\n",
    "index = pd.Index(['s1', 's2', 's3'])\n",
    "student_df = student_df.set_index(index)\n",
    "print(student_df)"
   ]
  },
  {
   "cell_type": "code",
   "execution_count": null,
   "id": "7985e85a",
   "metadata": {},
   "outputs": [],
   "source": []
  },
  {
   "cell_type": "markdown",
   "id": "2780370b",
   "metadata": {},
   "source": [
    "### Test normalisation"
   ]
  },
  {
   "cell_type": "code",
   "execution_count": 17,
   "id": "1b014b61",
   "metadata": {},
   "outputs": [
    {
     "name": "stdout",
     "output_type": "stream",
     "text": [
      "RMSE in original scale:  3.7071067811865475\n"
     ]
    }
   ],
   "source": [
    "import numpy as np\n",
    "rmse_normalised = 0.5\n",
    "original_data = np.array([1,2,3,4,5])\n",
    "mean_original = np.mean(original_data)\n",
    "std_original = np.std(original_data)\n",
    "rmse_original = rmse_normalised * std_original\n",
    "rmse_original += mean_original\n",
    "print(\"RMSE in original scale: \", rmse_original)"
   ]
  },
  {
   "cell_type": "code",
   "execution_count": 18,
   "id": "1e483fa2",
   "metadata": {},
   "outputs": [],
   "source": [
    "data = np.array([[1,2,3],[4,5,6],[7,8,9]])\n"
   ]
  },
  {
   "cell_type": "code",
   "execution_count": 19,
   "id": "33940cc3",
   "metadata": {},
   "outputs": [
    {
     "name": "stdout",
     "output_type": "stream",
     "text": [
      "          0         1         2\n",
      "0 -1.224745 -1.224745 -1.224745\n",
      "1  0.000000  0.000000  0.000000\n",
      "2  1.224745  1.224745  1.224745\n",
      "     0    1    2\n",
      "0  1.0  2.0  3.0\n",
      "1  4.0  5.0  6.0\n",
      "2  7.0  8.0  9.0\n"
     ]
    }
   ],
   "source": [
    "def normalize_timeseries_data(data):\n",
    "    # Calculate the mean and standard deviation for each feature\n",
    "    means = np.mean(data, axis=0)\n",
    "    stds = np.std(data, axis=0)\n",
    "\n",
    "    # Normalize each feature using standard deviation\n",
    "    normalized_data = (data - means) / stds\n",
    "\n",
    "    return pd.DataFrame(normalized_data), means, stds\n",
    "\n",
    "def denormalize_timeseries_data(data, means, stds):\n",
    "    \n",
    "    denormalized_data = (data * stds) + means\n",
    "#     denormalized_data = (data - means) / stds\n",
    "    \n",
    "    return pd.DataFrame(denormalized_data)\n",
    "\n",
    "# Example usage\n",
    "# Assuming you have a 2D array where each row represents a time step and each column represents a feature\n",
    "time_series_data = np.array([[1, 2, 3], [4, 5, 6], [7, 8, 9]])\n",
    "\n",
    "normalized_data, m, s = normalize_timeseries_data(time_series_data)\n",
    "print(normalized_data)\n",
    "denormalized_data = denormalize_timeseries_data(normalized_data, m, s)\n",
    "print(denormalized_data)"
   ]
  },
  {
   "cell_type": "code",
   "execution_count": 21,
   "id": "9742e81f",
   "metadata": {},
   "outputs": [
    {
     "name": "stdout",
     "output_type": "stream",
     "text": [
      "[2.44948974 2.44948974 2.44948974]\n"
     ]
    }
   ],
   "source": [
    "def analyze(data):\n",
    "    return np.std(data, axis=0)\n",
    "\n",
    "data = np.array([[1,2,3],[4,5,6],[7,8,9]])\n",
    "norm_data = normalize_timeseries_data(data)\n",
    "\n",
    "\n",
    "ave = analyze(data)\n",
    "print(ave)\n",
    "# print(analyze(norm_data))"
   ]
  },
  {
   "cell_type": "code",
   "execution_count": null,
   "id": "0fd9a460",
   "metadata": {},
   "outputs": [],
   "source": []
  },
  {
   "cell_type": "code",
   "execution_count": null,
   "id": "211c75b8",
   "metadata": {},
   "outputs": [],
   "source": []
  },
  {
   "cell_type": "code",
   "execution_count": 24,
   "id": "1527ef13",
   "metadata": {},
   "outputs": [
    {
     "data": {
      "image/png": "[encoded data removed]",
      "text/plain": [
       "<Figure size 720x432 with 1 Axes>"
      ]
     },
     "metadata": {
      "needs_background": "light"
     },
     "output_type": "display_data"
    }
   ],
   "source": [
    "import pandas as pd\n",
    "import numpy as np\n",
    "from statsmodels.tsa.vector_ar.var_model import VAR\n",
    "import matplotlib.pyplot as plt\n",
    "\n",
    "# Load your multivariate time series data\n",
    "data = pd.read_csv('test_data.csv')  # Replace 'your_data.csv' with your dataset\n",
    "\n",
    "# Split the data into training and testing sets\n",
    "train_size = int(0.8 * len(data))\n",
    "train_data = data[:train_size]\n",
    "test_data = data[train_size:]\n",
    "\n",
    "# Train the VAR model\n",
    "model = VAR(train_data)\n",
    "lags = 2  # Choose the number of lag observations to include in the model\n",
    "model_fit = model.fit(lags)\n",
    "\n",
    "# Forecast using the trained VAR model\n",
    "forecast_steps = len(test_data)\n",
    "# forecast = model_fit.forecast(model_fit.y, steps=forecast_steps)\n",
    "forecast = model_fit.forecast(train_data.values, steps=forecast_steps)\n",
    "\n",
    "# Convert the forecasted values to a DataFrame\n",
    "forecast_df = pd.DataFrame(forecast, index=test_data.index, columns=data.columns)\n",
    "\n",
    "# Plot the original and forecasted data\n",
    "plt.figure(figsize=(10, 6))\n",
    "for column in data.columns:\n",
    "    plt.plot(data.index, data[column], label='Original ' + column)\n",
    "    plt.plot(forecast_df.index, forecast_df[column], label='Forecasted ' + column)\n",
    "\n",
    "plt.xlabel('Time')\n",
    "plt.ylabel('Value')\n",
    "plt.title('VAR Forecast')\n",
    "plt.legend()\n",
    "plt.show()"
   ]
  },
  {
   "cell_type": "code",
   "execution_count": null,
   "id": "5bcede2b",
   "metadata": {},
   "outputs": [],
   "source": []
  }
 ],
 "metadata": {
  "kernelspec": {
   "display_name": "Python 3 (ipykernel)",
   "language": "python",
   "name": "python3"
  },
  "language_info": {
   "codemirror_mode": {
    "name": "ipython",
    "version": 3
   },
   "file_extension": ".py",
   "mimetype": "text/x-python",
   "name": "python",
   "nbconvert_exporter": "python",
   "pygments_lexer": "ipython3",
   "version": "3.8.0"
  }
 },
 "nbformat": 4,
 "nbformat_minor": 5
}
