{
 "cells": [
  {
   "cell_type": "markdown",
   "id": "2078eccb",
   "metadata": {},
   "source": [
    "## Genetic Algorithms"
   ]
  },
  {
   "cell_type": "markdown",
   "id": "909a9643",
   "metadata": {},
   "source": [
    "### Fault Class"
   ]
  },
  {
   "cell_type": "code",
   "execution_count": 1,
   "id": "e914d5de",
   "metadata": {},
   "outputs": [],
   "source": [
    "class Fault():\n",
    "    def __init__(self, types, duration, location):\n",
    "        self.types = types\n",
    "        self.duration = duration\n",
    "        self.location = location"
   ]
  },
  {
   "cell_type": "code",
   "execution_count": 2,
   "id": "77b5d63e",
   "metadata": {},
   "outputs": [],
   "source": [
    "# fault 1\n",
    "f1 = Fault(\"Random\", \"Transient\", \"start\")"
   ]
  },
  {
   "cell_type": "code",
   "execution_count": 4,
   "id": "6d4b96a0",
   "metadata": {},
   "outputs": [
    {
     "data": {
      "text/plain": [
       "'Transient'"
      ]
     },
     "execution_count": 4,
     "metadata": {},
     "output_type": "execute_result"
    }
   ],
   "source": [
    "f1.duration"
   ]
  },
  {
   "cell_type": "code",
   "execution_count": null,
   "id": "200ff35c",
   "metadata": {},
   "outputs": [],
   "source": []
  }
 ],
 "metadata": {
  "kernelspec": {
   "display_name": "Python 3 (ipykernel)",
   "language": "python",
   "name": "python3"
  },
  "language_info": {
   "codemirror_mode": {
    "name": "ipython",
    "version": 3
   },
   "file_extension": ".py",
   "mimetype": "text/x-python",
   "name": "python",
   "nbconvert_exporter": "python",
   "pygments_lexer": "ipython3",
   "version": "3.8.0"
  }
 },
 "nbformat": 4,
 "nbformat_minor": 5
}
